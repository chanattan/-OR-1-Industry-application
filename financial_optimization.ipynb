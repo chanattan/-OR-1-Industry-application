{
 "cells": [
  {
   "cell_type": "markdown",
   "id": "78b3b2d3",
   "metadata": {},
   "source": [
    "# Problem"
   ]
  },
  {
   "cell_type": "markdown",
   "id": "508091b4",
   "metadata": {},
   "source": [
    "## Financial Decision Model Optimization with GAMSPy\n",
    "\n",
    "Exercise provided by Gams Development Corp.\n",
    "\n",
    "### Objective\n",
    "You are tasked with implementing a mathematical optimization model for a company's financial decision-making process. The company has various financial needs such as investments, sales, procurement, and fixed costs. These needs must be financed through a group of creditors. The goal is to minimize the number of contracts while ensuring that all financial needs are covered under certain constraints.\n",
    "\n",
    "### Problem Description\n",
    "A company needs to allocate its financial needs to several creditors while respecting various constraints such as debt limits and preferred shares for specific creditors. The company has the following financial needs The company has the following financial needs, provided in a CSV file named financial_needs.csv:\n",
    "The creditors that the company can contract with are provided in a CSV file named creditors.csv. Out of these creditors, Santander, Deutsche Bank, … are considered main creditors. The information if a creditor is a main creditor can be also read from the CSV file.\n",
    "\n",
    "### Key Constraints\n",
    "\n",
    "The allocation of debt to the creditors must fully cover each type of financial need, ensuring that no need is left unmet. The company must contract with at least 65 different creditors, ensuring diversification of financial risk. No single creditor can be allocated more than 25% of the total debt, which ensures that the debt is distributed and no creditor holds an excessive share of the company’s financial obligations. A contract must be established for each product and creditor, with a minimum debt amount of 50,000. The product labeled as “investments” is considered a long-term financial need, and the following additional requirements must be met for long-term financial products: each creditor's long-term debt must be between 80% and 120% of the global balance, where the global balance is defined as the ratio of long-term debt to total debt,their total allocated debt, ensuring a balanced allocation relative to their overall involvement. At least 50% of the company's total debt must be assigned to the main creditors, as these creditors are key to the company's financing strategy. The goal is to allocate the total debt using as few contracts as possible to minimize administrative complexity and paperwork.\n",
    "Expected Output:\n",
    "Once the model is solved, display the following:\n",
    "\n",
    "Selected Contracts: Total number of contracts and creditors selected.\n",
    "Optimal Debt Distribution: For each creditor, display how much debt they are assigned and for which product.\n",
    "Global Balance: Display the global balance of long-term debt for each creditor.\n",
    "Long-term Balance: Ensure that each creditor's long-term debt is within the given limits and display it.\n",
    "\n",
    "### Instructions\n",
    "\n",
    "1. Create a Jupyter notebook file\n",
    "2. Read instance data from the provided CSV files.\n",
    "3. Create a GAMSPy model to solve the described problem.\n",
    "4. Solve the GAMSPy model using the instance data.\n",
    "5. Create charts to visualize the results."
   ]
  },
  {
   "cell_type": "code",
   "execution_count": null,
   "id": "5c68fc9d",
   "metadata": {},
   "outputs": [],
   "source": []
  }
 ],
 "metadata": {
  "language_info": {
   "name": "python"
  }
 },
 "nbformat": 4,
 "nbformat_minor": 5
}
